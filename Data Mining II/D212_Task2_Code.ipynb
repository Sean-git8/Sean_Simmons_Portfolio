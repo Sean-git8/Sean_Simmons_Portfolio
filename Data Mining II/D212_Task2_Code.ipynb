{
 "cells": [
  {
   "cell_type": "code",
   "execution_count": 8,
   "id": "0fd1f955-0f2c-4a59-b505-7f8f758fd4aa",
   "metadata": {
    "tags": []
   },
   "outputs": [],
   "source": [
    "#Import pandas so we can import our large cleaned data set, then we need to import the cleaned churn file provided to us in the data dictionary\n",
    "#Jupyter Lab 3.44, Python 3\n",
    "import pandas as pd\n",
    "churn_df = pd.read_csv(r'C:\\Users\\seans\\Documents\\WGU\\D212\\churn_clean.csv')\n",
    "\n",
    "#Baisc math imports\n",
    "import numpy as np\n",
    "from pandas import DataFrame\n",
    "\n",
    "#For Visualizations\n",
    "import seaborn as sb\n",
    "import matplotlib.pyplot as mpl\n",
    "%matplotlib inline\n",
    "\n",
    "#For our PCA analysis\n",
    "from sklearn.decomposition import PCA\n",
    "import seaborn as sns\n",
    "from sklearn.preprocessing import StandardScaler"
   ]
  },
  {
   "cell_type": "code",
   "execution_count": 9,
   "id": "e5ed565b-4933-48e5-b353-7bd6e543fa39",
   "metadata": {},
   "outputs": [
    {
     "name": "stdout",
     "output_type": "stream",
     "text": [
      "Floats\n",
      "<class 'pandas.core.frame.DataFrame'>\n",
      "RangeIndex: 10000 entries, 0 to 9999\n",
      "Data columns (total 7 columns):\n",
      " #   Column              Non-Null Count  Dtype  \n",
      "---  ------              --------------  -----  \n",
      " 0   Lat                 10000 non-null  float64\n",
      " 1   Lng                 10000 non-null  float64\n",
      " 2   Income              10000 non-null  float64\n",
      " 3   Outage_sec_perweek  10000 non-null  float64\n",
      " 4   Tenure              10000 non-null  float64\n",
      " 5   MonthlyCharge       10000 non-null  float64\n",
      " 6   Bandwidth_GB_Year   10000 non-null  float64\n",
      "dtypes: float64(7)\n",
      "memory usage: 547.0 KB\n",
      "None\n",
      "Integers\n",
      "<class 'pandas.core.frame.DataFrame'>\n",
      "RangeIndex: 10000 entries, 0 to 9999\n",
      "Data columns (total 16 columns):\n",
      " #   Column                Non-Null Count  Dtype\n",
      "---  ------                --------------  -----\n",
      " 0   CaseOrder             10000 non-null  int64\n",
      " 1   Zip                   10000 non-null  int64\n",
      " 2   Population            10000 non-null  int64\n",
      " 3   Children              10000 non-null  int64\n",
      " 4   Age                   10000 non-null  int64\n",
      " 5   Email                 10000 non-null  int64\n",
      " 6   Contacts              10000 non-null  int64\n",
      " 7   Yearly_equip_failure  10000 non-null  int64\n",
      " 8   Item1                 10000 non-null  int64\n",
      " 9   Item2                 10000 non-null  int64\n",
      " 10  Item3                 10000 non-null  int64\n",
      " 11  Item4                 10000 non-null  int64\n",
      " 12  Item5                 10000 non-null  int64\n",
      " 13  Item6                 10000 non-null  int64\n",
      " 14  Item7                 10000 non-null  int64\n",
      " 15  Item8                 10000 non-null  int64\n",
      "dtypes: int64(16)\n",
      "memory usage: 1.2 MB\n",
      "None\n",
      "Objects\n",
      "<class 'pandas.core.frame.DataFrame'>\n",
      "RangeIndex: 10000 entries, 0 to 9999\n",
      "Data columns (total 27 columns):\n",
      " #   Column            Non-Null Count  Dtype \n",
      "---  ------            --------------  ----- \n",
      " 0   Customer_id       10000 non-null  object\n",
      " 1   Interaction       10000 non-null  object\n",
      " 2   UID               10000 non-null  object\n",
      " 3   City              10000 non-null  object\n",
      " 4   State             10000 non-null  object\n",
      " 5   County            10000 non-null  object\n",
      " 6   Area              10000 non-null  object\n",
      " 7   TimeZone          10000 non-null  object\n",
      " 8   Job               10000 non-null  object\n",
      " 9   Marital           10000 non-null  object\n",
      " 10  Gender            10000 non-null  object\n",
      " 11  Churn             10000 non-null  object\n",
      " 12  Techie            10000 non-null  object\n",
      " 13  Contract          10000 non-null  object\n",
      " 14  Port_modem        10000 non-null  object\n",
      " 15  Tablet            10000 non-null  object\n",
      " 16  InternetService   10000 non-null  object\n",
      " 17  Phone             10000 non-null  object\n",
      " 18  Multiple          10000 non-null  object\n",
      " 19  OnlineSecurity    10000 non-null  object\n",
      " 20  OnlineBackup      10000 non-null  object\n",
      " 21  DeviceProtection  10000 non-null  object\n",
      " 22  TechSupport       10000 non-null  object\n",
      " 23  StreamingTV       10000 non-null  object\n",
      " 24  StreamingMovies   10000 non-null  object\n",
      " 25  PaperlessBilling  10000 non-null  object\n",
      " 26  PaymentMethod     10000 non-null  object\n",
      "dtypes: object(27)\n",
      "memory usage: 2.1+ MB\n",
      "None\n",
      "Dataset Information\n",
      "<bound method DataFrame.info of       CaseOrder Customer_id                           Interaction  \\\n",
      "0             1     K409198  aa90260b-4141-4a24-8e36-b04ce1f4f77b   \n",
      "1             2     S120509  fb76459f-c047-4a9d-8af9-e0f7d4ac2524   \n",
      "2             3     K191035  344d114c-3736-4be5-98f7-c72c281e2d35   \n",
      "3             4      D90850  abfa2b40-2d43-4994-b15a-989b8c79e311   \n",
      "4             5     K662701  68a861fd-0d20-4e51-a587-8a90407ee574   \n",
      "...         ...         ...                                   ...   \n",
      "9995       9996     M324793  45deb5a2-ae04-4518-bf0b-c82db8dbe4a4   \n",
      "9996       9997     D861732  6e96b921-0c09-4993-bbda-a1ac6411061a   \n",
      "9997       9998     I243405  e8307ddf-9a01-4fff-bc59-4742e03fd24f   \n",
      "9998       9999     I641617  3775ccfc-0052-4107-81ae-9657f81ecdf3   \n",
      "9999      10000      T38070  9de5fb6e-bd33-4995-aec8-f01d0172a499   \n",
      "\n",
      "                                   UID          City State  \\\n",
      "0     e885b299883d4f9fb18e39c75155d990   Point Baker    AK   \n",
      "1     f2de8bef964785f41a2959829830fb8a   West Branch    MI   \n",
      "2     f1784cfa9f6d92ae816197eb175d3c71       Yamhill    OR   \n",
      "3     dc8a365077241bb5cd5ccd305136b05e       Del Mar    CA   \n",
      "4     aabb64a116e83fdc4befc1fbab1663f9     Needville    TX   \n",
      "...                                ...           ...   ...   \n",
      "9995  9499fb4de537af195d16d046b79fd20a   Mount Holly    VT   \n",
      "9996  c09a841117fa81b5c8e19afec2760104   Clarksville    TN   \n",
      "9997  9c41f212d1e04dca84445019bbc9b41c      Mobeetie    TX   \n",
      "9998  3e1f269b40c235a1038863ecf6b7a0df    Carrollton    GA   \n",
      "9999  0ea683a03a3cd544aefe8388aab16176  Clarkesville    GA   \n",
      "\n",
      "                     County    Zip       Lat        Lng  ...  MonthlyCharge  \\\n",
      "0     Prince of Wales-Hyder  99927  56.25100 -133.37571  ...     172.455519   \n",
      "1                    Ogemaw  48661  44.32893  -84.24080  ...     242.632554   \n",
      "2                   Yamhill  97148  45.35589 -123.24657  ...     159.947583   \n",
      "3                 San Diego  92014  32.96687 -117.24798  ...     119.956840   \n",
      "4                 Fort Bend  77461  29.38012  -95.80673  ...     149.948316   \n",
      "...                     ...    ...       ...        ...  ...            ...   \n",
      "9995                Rutland   5758  43.43391  -72.78734  ...     159.979400   \n",
      "9996             Montgomery  37042  36.56907  -87.41694  ...     207.481100   \n",
      "9997                Wheeler  79061  35.52039 -100.44180  ...     169.974100   \n",
      "9998                Carroll  30117  33.58016  -85.13241  ...     252.624000   \n",
      "9999              Habersham  30523  34.70783  -83.53648  ...     217.484000   \n",
      "\n",
      "     Bandwidth_GB_Year Item1 Item2  Item3  Item4  Item5 Item6 Item7 Item8  \n",
      "0           904.536110     5     5      5      3      4     4     3     4  \n",
      "1           800.982766     3     4      3      3      4     3     4     4  \n",
      "2          2054.706961     4     4      2      4      4     3     3     3  \n",
      "3          2164.579412     4     4      4      2      5     4     3     3  \n",
      "4           271.493436     4     4      4      3      4     4     4     5  \n",
      "...                ...   ...   ...    ...    ...    ...   ...   ...   ...  \n",
      "9995       6511.252601     3     2      3      3      4     3     2     3  \n",
      "9996       5695.951810     4     5      5      4      4     5     2     5  \n",
      "9997       4159.305799     4     4      4      4      4     4     4     5  \n",
      "9998       6468.456752     4     4      6      4      3     3     5     4  \n",
      "9999       5857.586167     2     2      3      3      3     3     4     1  \n",
      "\n",
      "[10000 rows x 50 columns]>\n"
     ]
    }
   ],
   "source": [
    "#This step views the data types and information in churn_clean\n",
    "print(\"Floats\")\n",
    "print(churn_df.select_dtypes(include=\"float\").info())\n",
    "\n",
    "print(\"Integers\")\n",
    "print(churn_df.select_dtypes(include=\"integer\").info())\n",
    "\n",
    "print(\"Objects\")\n",
    "print(churn_df.select_dtypes(include=\"object\").info())\n",
    "\n",
    "print(\"Dataset Information\")\n",
    "print(churn_df.info)"
   ]
  },
  {
   "cell_type": "code",
   "execution_count": 10,
   "id": "eb7f0b13-3439-4764-8e6a-4bade58c4f61",
   "metadata": {},
   "outputs": [
    {
     "data": {
      "text/plain": [
       "CaseOrder               0\n",
       "Customer_id             0\n",
       "Interaction             0\n",
       "UID                     0\n",
       "City                    0\n",
       "State                   0\n",
       "County                  0\n",
       "Zip                     0\n",
       "Lat                     0\n",
       "Lng                     0\n",
       "Population              0\n",
       "Area                    0\n",
       "TimeZone                0\n",
       "Job                     0\n",
       "Children                0\n",
       "Age                     0\n",
       "Income                  0\n",
       "Marital                 0\n",
       "Gender                  0\n",
       "Churn                   0\n",
       "Outage_sec_perweek      0\n",
       "Email                   0\n",
       "Contacts                0\n",
       "Yearly_equip_failure    0\n",
       "Techie                  0\n",
       "Contract                0\n",
       "Port_modem              0\n",
       "Tablet                  0\n",
       "InternetService         0\n",
       "Phone                   0\n",
       "Multiple                0\n",
       "OnlineSecurity          0\n",
       "OnlineBackup            0\n",
       "DeviceProtection        0\n",
       "TechSupport             0\n",
       "StreamingTV             0\n",
       "StreamingMovies         0\n",
       "PaperlessBilling        0\n",
       "PaymentMethod           0\n",
       "Tenure                  0\n",
       "MonthlyCharge           0\n",
       "Bandwidth_GB_Year       0\n",
       "Item1                   0\n",
       "Item2                   0\n",
       "Item3                   0\n",
       "Item4                   0\n",
       "Item5                   0\n",
       "Item6                   0\n",
       "Item7                   0\n",
       "Item8                   0\n",
       "dtype: int64"
      ]
     },
     "execution_count": 10,
     "metadata": {},
     "output_type": "execute_result"
    }
   ],
   "source": [
    "#Check for any missing values\n",
    "churn_df.isna().sum()"
   ]
  },
  {
   "cell_type": "code",
   "execution_count": 11,
   "id": "caa7e525-f6f0-44fa-a0f8-4512237fc346",
   "metadata": {},
   "outputs": [],
   "source": [
    "#Drop categorical or non-continuous variables from dataframe\n",
    "churn_df = churn_df.drop(columns=['Gender' ,\n",
    "                                  'Marital',\n",
    "                                  'Area',\n",
    "                                  'Contract',\n",
    "                                  'PaymentMethod',\n",
    "                                  'Churn' , \n",
    "                                  'Techie' , \n",
    "                                  'Contract' ,       \n",
    "                                  'Port_modem' , \n",
    "                                  'Tablet' ,\n",
    "                                  'InternetService' , \n",
    "                                  'Phone' , \n",
    "                                  'Multiple' ,\n",
    "                                  'OnlineSecurity' ,\n",
    "                                  'OnlineBackup', \n",
    "                                  'DeviceProtection' ,\n",
    "                                  'TechSupport' ,\n",
    "                                  'StreamingTV', \n",
    "                                  'StreamingMovies',\n",
    "                                  'PaperlessBilling',\n",
    "                                  'Item1',\n",
    "                                  'Item2',\n",
    "                                  'Item3',\n",
    "                                  'Item4',\n",
    "                                  'Item5',\n",
    "                                  'Item6',\n",
    "                                  'Item7',\n",
    "                                  'Item8'])"
   ]
  },
  {
   "cell_type": "code",
   "execution_count": 12,
   "id": "e3d4af51-81cc-4402-ab8d-d170a4d3dec8",
   "metadata": {},
   "outputs": [],
   "source": [
    "#Remove Demographic information\n",
    "churn_df = churn_df.drop(columns=['CaseOrder' ,\n",
    "                               'Customer_id' ,\n",
    "                               'Interaction' ,\n",
    "                               'UID' ,\n",
    "                               'City' ,\n",
    "                               'State' ,\n",
    "                               'County' ,\n",
    "                               'Zip' ,\n",
    "                               'Lat' ,\n",
    "                               'Lng' ,\n",
    "                               'Population' ,\n",
    "                               'TimeZone' ,\n",
    "                               'Job'\n",
    "                               ])"
   ]
  },
  {
   "cell_type": "code",
   "execution_count": 13,
   "id": "0e13d8ff-dc7c-40a2-9a32-90276a8445e3",
   "metadata": {},
   "outputs": [
    {
     "name": "stdout",
     "output_type": "stream",
     "text": [
      "Features for analysis include: \n",
      " ['Children', 'Age', 'Income', 'Outage_sec_perweek', 'Email', 'Contacts', 'Yearly_equip_failure', 'Tenure', 'MonthlyCharge', 'Bandwidth_GB_Year']\n"
     ]
    }
   ],
   "source": [
    "#List features for analysis\n",
    "Features = (list(churn_df))\n",
    "print('Features for analysis include: \\n', Features)"
   ]
  },
  {
   "cell_type": "code",
   "execution_count": 14,
   "id": "d2aca497-3426-41ed-ba4b-66b98a4a141c",
   "metadata": {},
   "outputs": [
    {
     "name": "stdout",
     "output_type": "stream",
     "text": [
      "      Children       Age    Income  Outage_sec_perweek     Email  Contacts  \\\n",
      "0    -0.972338  0.720925 -0.398778           -0.679978 -0.666282 -1.005852   \n",
      "1    -0.506592 -1.259957 -0.641954            0.570331 -0.005288 -1.005852   \n",
      "2     0.890646 -0.148730 -1.070885            0.252347 -0.996779 -1.005852   \n",
      "3    -0.506592 -0.245359 -0.740525            1.650506  0.986203  1.017588   \n",
      "4    -0.972338  1.445638  0.009478           -0.623156  1.316700  1.017588   \n",
      "...        ...       ...       ...                 ...       ...       ...   \n",
      "9995  0.424900 -1.453214  0.564456           -0.196888 -0.005288  1.017588   \n",
      "9996  0.890646 -0.245359 -0.201344           -1.095915  0.986203  1.017588   \n",
      "9997 -0.506592 -0.245359  0.219037           -1.146198 -0.666282 -1.005852   \n",
      "9998 -0.506592 -0.680187 -0.820588            0.695616  0.655706  0.005868   \n",
      "9999 -0.506592 -1.211643 -1.091760            0.589028  1.647197  0.005868   \n",
      "\n",
      "      Yearly_equip_failure    Tenure  MonthlyCharge  Bandwidth_GB_Year  \n",
      "0                 0.946658 -1.048746      -0.003943          -1.138487  \n",
      "1                 0.946658 -1.262001       1.630326          -1.185876  \n",
      "2                 0.946658 -0.709940      -0.295225          -0.612138  \n",
      "3                -0.625864 -0.659524      -1.226521          -0.561857  \n",
      "4                 0.946658 -1.242551      -0.528086          -1.428184  \n",
      "...                    ...       ...            ...                ...  \n",
      "9995             -0.625864  1.273401      -0.294484           1.427298  \n",
      "9996             -0.625864  1.002740       0.811726           1.054194  \n",
      "9997             -0.625864  0.487513      -0.061729           0.350984  \n",
      "9998             -0.625864  1.383018       1.863005           1.407713  \n",
      "9999             -0.625864  1.090120       1.044672           1.128163  \n",
      "\n",
      "[10000 rows x 10 columns]\n"
     ]
    }
   ],
   "source": [
    "#Use the standardscaler package to standardize our values\n",
    "num_col = churn_df.columns[churn_df.dtypes.apply(lambda c: np.issubdtype(c, np.number))]\n",
    "scaler = StandardScaler()\n",
    "churn_df[num_col] = scaler.fit_transform(churn_df[num_col])\n",
    "#Check for scaling\n",
    "print(churn_df)"
   ]
  },
  {
   "cell_type": "code",
   "execution_count": 15,
   "id": "551e777a-7a65-4938-b03c-132044d232b2",
   "metadata": {},
   "outputs": [],
   "source": [
    "#Extract Clean dataset\n",
    "churn_df.to_csv('D212_churn_Task2.csv')"
   ]
  },
  {
   "cell_type": "code",
   "execution_count": 16,
   "id": "cd5ada7b-21db-41e5-a7b4-2a49c1a06957",
   "metadata": {},
   "outputs": [
    {
     "name": "stdout",
     "output_type": "stream",
     "text": [
      "           PC1       PC2       PC3       PC4       PC5       PC6       PC7  \\\n",
      "0    -1.536762  0.171914  1.454843  0.095288 -1.256114  0.702028 -0.110407   \n",
      "1    -1.658873 -0.084919 -0.961470  1.269270 -1.102248  1.130166 -0.208518   \n",
      "2    -0.903180 -1.078642  0.158621  0.897587 -1.617589 -0.048204 -0.389739   \n",
      "3    -0.940344  0.924346 -1.249369 -0.261404  0.060980 -1.970635 -0.238152   \n",
      "4    -1.928860  1.402067  1.159692 -0.719183 -0.136843 -0.918535  1.516884   \n",
      "...        ...       ...       ...       ...       ...       ...       ...   \n",
      "9995  1.893553 -0.657609 -0.633016 -0.221280  1.390348 -0.707759 -0.654197   \n",
      "9996  1.463002  0.132182 -0.794348 -0.981426  0.660400  0.110216  0.554934   \n",
      "9997  0.574807 -0.592765  0.701985 -0.856073 -0.011257  1.062299 -0.867484   \n",
      "9998  2.013656  1.085126 -1.786779  0.163483 -0.285542  0.906422 -0.271276   \n",
      "9999  1.553021  0.693810 -2.222608 -0.599757 -0.440660  0.089376  0.020432   \n",
      "\n",
      "           PC8       PC9      PC10  \n",
      "0    -0.440597  0.199732 -0.026854  \n",
      "1    -0.682203  1.359864 -0.038338  \n",
      "2     0.438785 -0.340794  0.060687  \n",
      "3    -0.772428 -0.564671  0.130091  \n",
      "4    -0.125387  0.469995 -0.056519  \n",
      "...        ...       ...       ...  \n",
      "9995  0.260375  0.646857  0.081025  \n",
      "9996  1.426217  0.852965 -0.024736  \n",
      "9997 -0.292028  0.095906 -0.087166  \n",
      "9998 -0.159951  0.777656 -0.068782  \n",
      "9999 -0.568523  1.095979 -0.033770  \n",
      "\n",
      "[10000 rows x 10 columns]\n"
     ]
    }
   ],
   "source": [
    "#Creating PCA dataframe\n",
    "pca = PCA(n_components=10)\n",
    "Principal_components=pca.fit_transform(churn_df)\n",
    "pca_df = pd.DataFrame(data = Principal_components, columns = ['PC1', 'PC2', 'PC3', 'PC4', 'PC5', 'PC6','PC7','PC8','PC9','PC10'])\n",
    "print(pca_df)"
   ]
  },
  {
   "cell_type": "code",
   "execution_count": 17,
   "id": "43c5966f-b211-4247-992e-8d15954e74a3",
   "metadata": {},
   "outputs": [
    {
     "data": {
      "text/html": [
       "<div>\n",
       "<style scoped>\n",
       "    .dataframe tbody tr th:only-of-type {\n",
       "        vertical-align: middle;\n",
       "    }\n",
       "\n",
       "    .dataframe tbody tr th {\n",
       "        vertical-align: top;\n",
       "    }\n",
       "\n",
       "    .dataframe thead th {\n",
       "        text-align: right;\n",
       "    }\n",
       "</style>\n",
       "<table border=\"1\" class=\"dataframe\">\n",
       "  <thead>\n",
       "    <tr style=\"text-align: right;\">\n",
       "      <th></th>\n",
       "      <th>PC1</th>\n",
       "      <th>PC2</th>\n",
       "      <th>PC3</th>\n",
       "      <th>PC4</th>\n",
       "      <th>PC5</th>\n",
       "      <th>PC6</th>\n",
       "      <th>PC7</th>\n",
       "      <th>PC8</th>\n",
       "      <th>PC9</th>\n",
       "      <th>PC10</th>\n",
       "    </tr>\n",
       "  </thead>\n",
       "  <tbody>\n",
       "    <tr>\n",
       "      <th>Children</th>\n",
       "      <td>0.014135</td>\n",
       "      <td>-0.559467</td>\n",
       "      <td>-0.285319</td>\n",
       "      <td>0.141418</td>\n",
       "      <td>0.031679</td>\n",
       "      <td>-0.057721</td>\n",
       "      <td>0.287326</td>\n",
       "      <td>0.646749</td>\n",
       "      <td>-0.282399</td>\n",
       "      <td>-0.021585</td>\n",
       "    </tr>\n",
       "    <tr>\n",
       "      <th>Age</th>\n",
       "      <td>0.001708</td>\n",
       "      <td>0.479836</td>\n",
       "      <td>0.421944</td>\n",
       "      <td>-0.089805</td>\n",
       "      <td>-0.159621</td>\n",
       "      <td>0.125006</td>\n",
       "      <td>0.405096</td>\n",
       "      <td>0.207965</td>\n",
       "      <td>-0.578529</td>\n",
       "      <td>0.022366</td>\n",
       "    </tr>\n",
       "    <tr>\n",
       "      <th>Income</th>\n",
       "      <td>0.004360</td>\n",
       "      <td>-0.223932</td>\n",
       "      <td>0.267257</td>\n",
       "      <td>0.166468</td>\n",
       "      <td>0.787136</td>\n",
       "      <td>0.210454</td>\n",
       "      <td>0.294875</td>\n",
       "      <td>-0.302723</td>\n",
       "      <td>-0.090721</td>\n",
       "      <td>-0.000935</td>\n",
       "    </tr>\n",
       "    <tr>\n",
       "      <th>Outage_sec_perweek</th>\n",
       "      <td>0.005884</td>\n",
       "      <td>0.212260</td>\n",
       "      <td>-0.479537</td>\n",
       "      <td>0.578438</td>\n",
       "      <td>-0.025686</td>\n",
       "      <td>-0.243383</td>\n",
       "      <td>-0.001698</td>\n",
       "      <td>-0.367329</td>\n",
       "      <td>-0.442194</td>\n",
       "      <td>0.000281</td>\n",
       "    </tr>\n",
       "    <tr>\n",
       "      <th>Email</th>\n",
       "      <td>-0.020779</td>\n",
       "      <td>0.107067</td>\n",
       "      <td>-0.438465</td>\n",
       "      <td>-0.454312</td>\n",
       "      <td>-0.004960</td>\n",
       "      <td>-0.153997</td>\n",
       "      <td>0.686128</td>\n",
       "      <td>-0.229615</td>\n",
       "      <td>0.205475</td>\n",
       "      <td>0.000246</td>\n",
       "    </tr>\n",
       "    <tr>\n",
       "      <th>Contacts</th>\n",
       "      <td>0.004175</td>\n",
       "      <td>0.458770</td>\n",
       "      <td>0.013844</td>\n",
       "      <td>0.104530</td>\n",
       "      <td>0.465026</td>\n",
       "      <td>-0.550932</td>\n",
       "      <td>-0.043184</td>\n",
       "      <td>0.438267</td>\n",
       "      <td>0.254313</td>\n",
       "      <td>-0.000943</td>\n",
       "    </tr>\n",
       "    <tr>\n",
       "      <th>Yearly_equip_failure</th>\n",
       "      <td>0.017565</td>\n",
       "      <td>-0.143555</td>\n",
       "      <td>0.395131</td>\n",
       "      <td>0.530963</td>\n",
       "      <td>-0.368864</td>\n",
       "      <td>-0.227787</td>\n",
       "      <td>0.424544</td>\n",
       "      <td>-0.078997</td>\n",
       "      <td>0.408176</td>\n",
       "      <td>-0.000095</td>\n",
       "    </tr>\n",
       "    <tr>\n",
       "      <th>Tenure</th>\n",
       "      <td>0.705422</td>\n",
       "      <td>0.001851</td>\n",
       "      <td>0.021078</td>\n",
       "      <td>-0.041735</td>\n",
       "      <td>-0.004963</td>\n",
       "      <td>-0.037044</td>\n",
       "      <td>-0.004471</td>\n",
       "      <td>-0.029719</td>\n",
       "      <td>-0.022244</td>\n",
       "      <td>-0.705262</td>\n",
       "    </tr>\n",
       "    <tr>\n",
       "      <th>MonthlyCharge</th>\n",
       "      <td>0.040423</td>\n",
       "      <td>0.344887</td>\n",
       "      <td>-0.299619</td>\n",
       "      <td>0.329364</td>\n",
       "      <td>0.029915</td>\n",
       "      <td>0.704988</td>\n",
       "      <td>0.116154</td>\n",
       "      <td>0.244887</td>\n",
       "      <td>0.328190</td>\n",
       "      <td>-0.045755</td>\n",
       "    </tr>\n",
       "    <tr>\n",
       "      <th>Bandwidth_GB_Year</th>\n",
       "      <td>0.706917</td>\n",
       "      <td>-0.007922</td>\n",
       "      <td>-0.019661</td>\n",
       "      <td>-0.012803</td>\n",
       "      <td>0.004627</td>\n",
       "      <td>0.002619</td>\n",
       "      <td>-0.000835</td>\n",
       "      <td>-0.000232</td>\n",
       "      <td>0.009110</td>\n",
       "      <td>0.706784</td>\n",
       "    </tr>\n",
       "  </tbody>\n",
       "</table>\n",
       "</div>"
      ],
      "text/plain": [
       "                           PC1       PC2       PC3       PC4       PC5  \\\n",
       "Children              0.014135 -0.559467 -0.285319  0.141418  0.031679   \n",
       "Age                   0.001708  0.479836  0.421944 -0.089805 -0.159621   \n",
       "Income                0.004360 -0.223932  0.267257  0.166468  0.787136   \n",
       "Outage_sec_perweek    0.005884  0.212260 -0.479537  0.578438 -0.025686   \n",
       "Email                -0.020779  0.107067 -0.438465 -0.454312 -0.004960   \n",
       "Contacts              0.004175  0.458770  0.013844  0.104530  0.465026   \n",
       "Yearly_equip_failure  0.017565 -0.143555  0.395131  0.530963 -0.368864   \n",
       "Tenure                0.705422  0.001851  0.021078 -0.041735 -0.004963   \n",
       "MonthlyCharge         0.040423  0.344887 -0.299619  0.329364  0.029915   \n",
       "Bandwidth_GB_Year     0.706917 -0.007922 -0.019661 -0.012803  0.004627   \n",
       "\n",
       "                           PC6       PC7       PC8       PC9      PC10  \n",
       "Children             -0.057721  0.287326  0.646749 -0.282399 -0.021585  \n",
       "Age                   0.125006  0.405096  0.207965 -0.578529  0.022366  \n",
       "Income                0.210454  0.294875 -0.302723 -0.090721 -0.000935  \n",
       "Outage_sec_perweek   -0.243383 -0.001698 -0.367329 -0.442194  0.000281  \n",
       "Email                -0.153997  0.686128 -0.229615  0.205475  0.000246  \n",
       "Contacts             -0.550932 -0.043184  0.438267  0.254313 -0.000943  \n",
       "Yearly_equip_failure -0.227787  0.424544 -0.078997  0.408176 -0.000095  \n",
       "Tenure               -0.037044 -0.004471 -0.029719 -0.022244 -0.705262  \n",
       "MonthlyCharge         0.704988  0.116154  0.244887  0.328190 -0.045755  \n",
       "Bandwidth_GB_Year     0.002619 -0.000835 -0.000232  0.009110  0.706784  "
      ]
     },
     "execution_count": 17,
     "metadata": {},
     "output_type": "execute_result"
    }
   ],
   "source": [
    "#Loadings\n",
    "loadings = pd.DataFrame(pca.components_.T,\n",
    "columns=['PC1', 'PC2', 'PC3', 'PC4', 'PC5', 'PC6','PC7','PC8','PC9','PC10'], index=churn_df.columns)\n",
    "loadings"
   ]
  },
  {
   "cell_type": "code",
   "execution_count": 18,
   "id": "bbe528bf-abfc-4538-b247-e8702571d939",
   "metadata": {},
   "outputs": [
    {
     "name": "stdout",
     "output_type": "stream",
     "text": [
      "Variance explained by all 10 principal components = 100.0\n"
     ]
    }
   ],
   "source": [
    "#Total explained variance for all 10 principal components\n",
    "print('Variance explained by all 10 principal components =', \n",
    "      sum(pca.explained_variance_ratio_*100).round(3))"
   ]
  },
  {
   "cell_type": "code",
   "execution_count": 19,
   "id": "8be72b38-7b07-40bb-9607-a1008c2dc93b",
   "metadata": {},
   "outputs": [
    {
     "data": {
      "text/plain": [
       "array([19.94133677, 10.53229292, 10.27451155, 10.12457321,  9.99695569,\n",
       "        9.9368061 ,  9.88959678,  9.64670994,  9.60254553,  0.0546715 ])"
      ]
     },
     "execution_count": 19,
     "metadata": {},
     "output_type": "execute_result"
    }
   ],
   "source": [
    "#Explained variance for each PC in order\n",
    "pca.explained_variance_ratio_ * 100"
   ]
  },
  {
   "cell_type": "code",
   "execution_count": 20,
   "id": "5783717b-2779-412d-bd24-c023b8a832f2",
   "metadata": {},
   "outputs": [
    {
     "data": {
      "text/plain": [
       "array([1.99433311, 1.05333463, 1.02755391, 1.01255858, 0.99979555,\n",
       "       0.99377999, 0.98905858, 0.96476747, 0.96035059, 0.0054677 ])"
      ]
     },
     "execution_count": 20,
     "metadata": {},
     "output_type": "execute_result"
    }
   ],
   "source": [
    "#Eigenvalues per PC\n",
    "eigenvalues = pca.explained_variance_\n",
    "eigenvalues"
   ]
  },
  {
   "cell_type": "code",
   "execution_count": 21,
   "id": "cc08f311-07e7-45bf-9512-505859ab304e",
   "metadata": {},
   "outputs": [
    {
     "data": {
      "text/plain": [
       "array([ 19.94133677,  30.47362969,  40.74814124,  50.87271445,\n",
       "        60.86967014,  70.80647624,  80.69607303,  90.34278297,\n",
       "        99.9453285 , 100.        ])"
      ]
     },
     "execution_count": 21,
     "metadata": {},
     "output_type": "execute_result"
    }
   ],
   "source": [
    "#Cumulative sum\n",
    "np.cumsum(pca.explained_variance_ratio_*100)"
   ]
  },
  {
   "cell_type": "code",
   "execution_count": 22,
   "id": "1a351308-4aed-4401-b651-a62266026e05",
   "metadata": {},
   "outputs": [
    {
     "data": {
      "image/png": "[encoded data removed]",
      "text/plain": [
       "<Figure size 640x480 with 1 Axes>"
      ]
     },
     "metadata": {},
     "output_type": "display_data"
    }
   ],
   "source": [
    "#Creating Scree Plot\n",
    "PC_values = np.arange(pca.n_components_) + 1\n",
    "mpl.plot(PC_values, pca.explained_variance_ratio_, 'ro-', linewidth=2)\n",
    "mpl.title('Scree Plot')\n",
    "mpl.xlabel('Principal Component')\n",
    "mpl.ylabel('Proportion of Variance Explained')\n",
    "mpl.show()"
   ]
  },
  {
   "cell_type": "code",
   "execution_count": 23,
   "id": "9d6f669d-8cf9-4a12-bf57-eedcb460b6cb",
   "metadata": {},
   "outputs": [],
   "source": [
    "# Based on the Kaisure rule, we will keep the PC's with eigenvalues above 1 (.99 is rounded to 1 here) and then run another PCA model"
   ]
  },
  {
   "cell_type": "code",
   "execution_count": 24,
   "id": "e63a0402-001a-4fdf-9eb7-e90310f39270",
   "metadata": {},
   "outputs": [
    {
     "name": "stdout",
     "output_type": "stream",
     "text": [
      "           PC1       PC2       PC3       PC4       PC5       PC6\n",
      "0    -1.536762  0.171914  1.454843  0.095288 -1.256114  0.702028\n",
      "1    -1.658873 -0.084919 -0.961470  1.269270 -1.102248  1.130166\n",
      "2    -0.903180 -1.078642  0.158621  0.897587 -1.617589 -0.048204\n",
      "3    -0.940344  0.924346 -1.249369 -0.261404  0.060980 -1.970635\n",
      "4    -1.928860  1.402067  1.159692 -0.719183 -0.136843 -0.918535\n",
      "...        ...       ...       ...       ...       ...       ...\n",
      "9995  1.893553 -0.657609 -0.633016 -0.221280  1.390348 -0.707759\n",
      "9996  1.463002  0.132182 -0.794348 -0.981426  0.660400  0.110216\n",
      "9997  0.574807 -0.592765  0.701985 -0.856073 -0.011257  1.062299\n",
      "9998  2.013656  1.085126 -1.786779  0.163483 -0.285542  0.906422\n",
      "9999  1.553021  0.693810 -2.222608 -0.599757 -0.440660  0.089376\n",
      "\n",
      "[10000 rows x 6 columns]\n"
     ]
    }
   ],
   "source": [
    "#Creating Reduced PCA dataframe \n",
    "pca = PCA(n_components=6)\n",
    "Principal_components=pca.fit_transform(churn_df)\n",
    "pca_df = pd.DataFrame(data = Principal_components, columns = ['PC1', 'PC2', 'PC3', 'PC4', 'PC5', 'PC6'])\n",
    "print(pca_df)"
   ]
  },
  {
   "cell_type": "code",
   "execution_count": 25,
   "id": "e1d010c7-af5d-4010-bfdb-953feba5f486",
   "metadata": {},
   "outputs": [
    {
     "data": {
      "text/html": [
       "<div>\n",
       "<style scoped>\n",
       "    .dataframe tbody tr th:only-of-type {\n",
       "        vertical-align: middle;\n",
       "    }\n",
       "\n",
       "    .dataframe tbody tr th {\n",
       "        vertical-align: top;\n",
       "    }\n",
       "\n",
       "    .dataframe thead th {\n",
       "        text-align: right;\n",
       "    }\n",
       "</style>\n",
       "<table border=\"1\" class=\"dataframe\">\n",
       "  <thead>\n",
       "    <tr style=\"text-align: right;\">\n",
       "      <th></th>\n",
       "      <th>PC1</th>\n",
       "      <th>PC2</th>\n",
       "      <th>PC3</th>\n",
       "      <th>PC4</th>\n",
       "      <th>PC5</th>\n",
       "      <th>PC6</th>\n",
       "    </tr>\n",
       "  </thead>\n",
       "  <tbody>\n",
       "    <tr>\n",
       "      <th>Children</th>\n",
       "      <td>0.014135</td>\n",
       "      <td>-0.559467</td>\n",
       "      <td>-0.285319</td>\n",
       "      <td>0.141418</td>\n",
       "      <td>0.031679</td>\n",
       "      <td>-0.057721</td>\n",
       "    </tr>\n",
       "    <tr>\n",
       "      <th>Age</th>\n",
       "      <td>0.001708</td>\n",
       "      <td>0.479836</td>\n",
       "      <td>0.421944</td>\n",
       "      <td>-0.089805</td>\n",
       "      <td>-0.159621</td>\n",
       "      <td>0.125006</td>\n",
       "    </tr>\n",
       "    <tr>\n",
       "      <th>Income</th>\n",
       "      <td>0.004360</td>\n",
       "      <td>-0.223932</td>\n",
       "      <td>0.267257</td>\n",
       "      <td>0.166468</td>\n",
       "      <td>0.787136</td>\n",
       "      <td>0.210454</td>\n",
       "    </tr>\n",
       "    <tr>\n",
       "      <th>Outage_sec_perweek</th>\n",
       "      <td>0.005884</td>\n",
       "      <td>0.212260</td>\n",
       "      <td>-0.479537</td>\n",
       "      <td>0.578438</td>\n",
       "      <td>-0.025686</td>\n",
       "      <td>-0.243383</td>\n",
       "    </tr>\n",
       "    <tr>\n",
       "      <th>Email</th>\n",
       "      <td>-0.020779</td>\n",
       "      <td>0.107067</td>\n",
       "      <td>-0.438465</td>\n",
       "      <td>-0.454312</td>\n",
       "      <td>-0.004960</td>\n",
       "      <td>-0.153997</td>\n",
       "    </tr>\n",
       "    <tr>\n",
       "      <th>Contacts</th>\n",
       "      <td>0.004175</td>\n",
       "      <td>0.458770</td>\n",
       "      <td>0.013844</td>\n",
       "      <td>0.104530</td>\n",
       "      <td>0.465026</td>\n",
       "      <td>-0.550932</td>\n",
       "    </tr>\n",
       "    <tr>\n",
       "      <th>Yearly_equip_failure</th>\n",
       "      <td>0.017565</td>\n",
       "      <td>-0.143555</td>\n",
       "      <td>0.395131</td>\n",
       "      <td>0.530963</td>\n",
       "      <td>-0.368864</td>\n",
       "      <td>-0.227787</td>\n",
       "    </tr>\n",
       "    <tr>\n",
       "      <th>Tenure</th>\n",
       "      <td>0.705422</td>\n",
       "      <td>0.001851</td>\n",
       "      <td>0.021078</td>\n",
       "      <td>-0.041735</td>\n",
       "      <td>-0.004963</td>\n",
       "      <td>-0.037044</td>\n",
       "    </tr>\n",
       "    <tr>\n",
       "      <th>MonthlyCharge</th>\n",
       "      <td>0.040423</td>\n",
       "      <td>0.344887</td>\n",
       "      <td>-0.299619</td>\n",
       "      <td>0.329364</td>\n",
       "      <td>0.029915</td>\n",
       "      <td>0.704988</td>\n",
       "    </tr>\n",
       "    <tr>\n",
       "      <th>Bandwidth_GB_Year</th>\n",
       "      <td>0.706917</td>\n",
       "      <td>-0.007922</td>\n",
       "      <td>-0.019661</td>\n",
       "      <td>-0.012803</td>\n",
       "      <td>0.004627</td>\n",
       "      <td>0.002619</td>\n",
       "    </tr>\n",
       "  </tbody>\n",
       "</table>\n",
       "</div>"
      ],
      "text/plain": [
       "                           PC1       PC2       PC3       PC4       PC5  \\\n",
       "Children              0.014135 -0.559467 -0.285319  0.141418  0.031679   \n",
       "Age                   0.001708  0.479836  0.421944 -0.089805 -0.159621   \n",
       "Income                0.004360 -0.223932  0.267257  0.166468  0.787136   \n",
       "Outage_sec_perweek    0.005884  0.212260 -0.479537  0.578438 -0.025686   \n",
       "Email                -0.020779  0.107067 -0.438465 -0.454312 -0.004960   \n",
       "Contacts              0.004175  0.458770  0.013844  0.104530  0.465026   \n",
       "Yearly_equip_failure  0.017565 -0.143555  0.395131  0.530963 -0.368864   \n",
       "Tenure                0.705422  0.001851  0.021078 -0.041735 -0.004963   \n",
       "MonthlyCharge         0.040423  0.344887 -0.299619  0.329364  0.029915   \n",
       "Bandwidth_GB_Year     0.706917 -0.007922 -0.019661 -0.012803  0.004627   \n",
       "\n",
       "                           PC6  \n",
       "Children             -0.057721  \n",
       "Age                   0.125006  \n",
       "Income                0.210454  \n",
       "Outage_sec_perweek   -0.243383  \n",
       "Email                -0.153997  \n",
       "Contacts             -0.550932  \n",
       "Yearly_equip_failure -0.227787  \n",
       "Tenure               -0.037044  \n",
       "MonthlyCharge         0.704988  \n",
       "Bandwidth_GB_Year     0.002619  "
      ]
     },
     "execution_count": 25,
     "metadata": {},
     "output_type": "execute_result"
    }
   ],
   "source": [
    "#Loadings\n",
    "loadings = pd.DataFrame(pca.components_.T,\n",
    "columns=['PC1', 'PC2', 'PC3', 'PC4', 'PC5', 'PC6'], index=churn_df.columns)\n",
    "loadings"
   ]
  },
  {
   "cell_type": "code",
   "execution_count": 26,
   "id": "d701f65e-6620-4fdf-8ea0-b346f657d351",
   "metadata": {},
   "outputs": [
    {
     "name": "stdout",
     "output_type": "stream",
     "text": [
      "Variance explained by all 10 principal components = 70.806\n"
     ]
    }
   ],
   "source": [
    "#Total explained variance for the 6 PC's\n",
    "print('Variance explained by all 10 principal components =', \n",
    "      sum(pca.explained_variance_ratio_*100).round(3))"
   ]
  },
  {
   "cell_type": "code",
   "execution_count": 27,
   "id": "7b0cd9a4-bec3-4a63-a515-012ffbd0c76a",
   "metadata": {},
   "outputs": [
    {
     "data": {
      "text/plain": [
       "array([19.94133677, 10.53229292, 10.27451155, 10.12457321,  9.99695569,\n",
       "        9.9368061 ])"
      ]
     },
     "execution_count": 27,
     "metadata": {},
     "output_type": "execute_result"
    }
   ],
   "source": [
    "#Explained variance for each PC, 1-6\n",
    "pca.explained_variance_ratio_ * 100"
   ]
  },
  {
   "cell_type": "code",
   "execution_count": 28,
   "id": "be5541db-2544-42af-bbbd-3b7be5f04c6d",
   "metadata": {},
   "outputs": [
    {
     "data": {
      "text/plain": [
       "array([1.99433311, 1.05333463, 1.02755391, 1.01255858, 0.99979555,\n",
       "       0.99377999])"
      ]
     },
     "execution_count": 28,
     "metadata": {},
     "output_type": "execute_result"
    }
   ],
   "source": [
    "#Eigenvalues per PC, 1-6\n",
    "eigenvalues = pca.explained_variance_\n",
    "eigenvalues"
   ]
  },
  {
   "cell_type": "code",
   "execution_count": 29,
   "id": "8867ec3c-8c82-4eff-a849-d3065cefc617",
   "metadata": {},
   "outputs": [
    {
     "data": {
      "text/plain": [
       "array([19.94133677, 30.47362969, 40.74814124, 50.87271445, 60.86967014,\n",
       "       70.80647624])"
      ]
     },
     "execution_count": 29,
     "metadata": {},
     "output_type": "execute_result"
    }
   ],
   "source": [
    "#Cumulative sum\n",
    "np.cumsum(pca.explained_variance_ratio_*100)"
   ]
  },
  {
   "cell_type": "code",
   "execution_count": 30,
   "id": "68d997ce-1898-4ea0-a057-35d8cb622f63",
   "metadata": {},
   "outputs": [
    {
     "data": {
      "image/png": "[encoded data removed]",
      "text/plain": [
       "<Figure size 640x480 with 1 Axes>"
      ]
     },
     "metadata": {},
     "output_type": "display_data"
    }
   ],
   "source": [
    "#Final Scree Plot\n",
    "PC_values = np.arange(pca.n_components_) + 1\n",
    "mpl.plot(PC_values, pca.explained_variance_ratio_, 'ro-', linewidth=2)\n",
    "mpl.title('Scree Plot')\n",
    "mpl.xlabel('Principal Component')\n",
    "mpl.ylabel('Proportion of Variance Explained')\n",
    "mpl.show()"
   ]
  },
  {
   "cell_type": "code",
   "execution_count": null,
   "id": "e7391c4f-016d-43ff-bc9f-5766e867e71e",
   "metadata": {},
   "outputs": [],
   "source": []
  },
  {
   "cell_type": "code",
   "execution_count": null,
   "id": "f0a8fc03-d50d-4d84-8dd9-a49ef346962d",
   "metadata": {},
   "outputs": [],
   "source": []
  }
 ],
 "metadata": {
  "kernelspec": {
   "display_name": "Python 3 (ipykernel)",
   "language": "python",
   "name": "python3"
  },
  "language_info": {
   "codemirror_mode": {
    "name": "ipython",
    "version": 3
   },
   "file_extension": ".py",
   "mimetype": "text/x-python",
   "name": "python",
   "nbconvert_exporter": "python",
   "pygments_lexer": "ipython3",
   "version": "3.9.13"
  }
 },
 "nbformat": 4,
 "nbformat_minor": 5
}
